{
  "nbformat": 4,
  "nbformat_minor": 0,
  "metadata": {
    "colab": {
      "provenance": [],
      "authorship_tag": "ABX9TyOMjX8sv3xdFSCHGggl6Pn1",
      "include_colab_link": true
    },
    "kernelspec": {
      "name": "python3",
      "display_name": "Python 3"
    },
    "language_info": {
      "name": "python"
    }
  },
  "cells": [
    {
      "cell_type": "markdown",
      "metadata": {
        "id": "view-in-github",
        "colab_type": "text"
      },
      "source": [
        "<a href=\"https://colab.research.google.com/github/naolkuma/online_shoes_shopping/blob/main/onlineone.ipynb\" target=\"_parent\"><img src=\"https://colab.research.google.com/assets/colab-badge.svg\" alt=\"Open In Colab\"/></a>"
      ]
    },
    {
      "cell_type": "code",
      "execution_count": 3,
      "metadata": {
        "id": "6cdOKMTKusOa"
      },
      "outputs": [],
      "source": [
        "import numpy as np\n",
        "import pandas as pd\n",
        "import matplotlib.pyplot as plt\n",
        "import seaborn as sns\n",
        "import datetime\n",
        "import tensorflow\n",
        "from statsmodels.tsa.stattools import adfuller\n",
        "from sklearn.preprocessing import MinMaxScaler\n",
        "from tensorflow import keras\n",
        "from keras import callbacks\n",
        "from tensorflow.keras import Sequential\n",
        "from tensorflow.keras.layers import Conv2D, Flatten, Dense, LSTM, Dropout, GRU, Bidirectional\n",
        "from tensorflow.keras.optimizers import SGD\n",
        "import math\n",
        "from sklearn.metrics import mean_squared_error\n",
        "\n",
        "import warnings\n",
        "warnings.filterwarnings(\"ignore\")\n"
      ]
    },
    {
      "cell_type": "code",
      "source": [],
      "metadata": {
        "id": "mjNUH-Y_2d-J"
      },
      "execution_count": null,
      "outputs": []
    },
    {
      "cell_type": "code",
      "source": [
        "## loading data\n",
        "\n",
        "df = pd.read_csv(\"traffic.csv\")\n",
        "df.head()"
      ],
      "metadata": {
        "id": "a3WtBoeNycu6"
      },
      "execution_count": null,
      "outputs": []
    },
    {
      "cell_type": "code",
      "source": [
        "df.info()"
      ],
      "metadata": {
        "id": "e0jpWQMbytC5"
      },
      "execution_count": null,
      "outputs": []
    },
    {
      "cell_type": "code",
      "source": [
        "## process time data\n",
        "\n",
        "df['DateTime'] = pd.to_datetime(df['DateTime'])"
      ],
      "metadata": {
        "id": "WmMeEd1pyyR5"
      },
      "execution_count": 6,
      "outputs": []
    },
    {
      "cell_type": "code",
      "source": [
        "## drop ID\n",
        "\n",
        "df = df.drop('ID', axis=1)"
      ],
      "metadata": {
        "id": "56MMfRZey21K"
      },
      "execution_count": 7,
      "outputs": []
    },
    {
      "cell_type": "code",
      "source": [
        "\n",
        "df_ = df.copy()\n",
        "df_.head()"
      ],
      "metadata": {
        "id": "kf0H6mNhy8eh"
      },
      "execution_count": null,
      "outputs": []
    },
    {
      "cell_type": "code",
      "source": [
        "## lets speak with data\n",
        "\n",
        "\n",
        "palette = [ \"#FFD4DB\",\"#BBE7FE\",\"#D3B5E5\",\"#dfe2b6\"]\n",
        "plt.figure(figsize=(20, 20), dpi=150)\n",
        "series = sns.lineplot(x=df_['DateTime'], y = \"Vehicles\", data=df_, hue=\"Junction\", palette=palette)\n",
        "series.set_title(\"Traffic based Junction\", fontsize=18)\n",
        "series.set_ylabel(\"Number of Veichles\")\n",
        "series.set_xlabel('Date')"
      ],
      "metadata": {
        "id": "oY1TAUgBzA1y"
      },
      "execution_count": null,
      "outputs": []
    },
    {
      "cell_type": "code",
      "source": [
        "## waite Waite, let data talk more\n",
        "\n",
        "df_['Year'] = df_['DateTime'].dt.year\n",
        "df_['Month'] = df_['DateTime'].dt.month\n",
        "df_['Date_no'] = df_['DateTime'].dt.day\n",
        "df_['Hour'] = df_['DateTime'].dt.hour\n",
        "df_['Day'] = df_.DateTime.dt.strftime(\"%A\")\n",
        "df_.head()"
      ],
      "metadata": {
        "id": "FqvBJO_xzQoq"
      },
      "execution_count": null,
      "outputs": []
    },
    {
      "cell_type": "code",
      "source": [
        "## plot TIme series data\n",
        "\n",
        "created_feature = ['Year', 'Month', 'Date_no', 'Hour', 'Day']\n",
        "\n",
        "for i in created_feature:\n",
        "    plt.figure(figsize=(10, 2), dpi=100)\n",
        "    ax = sns.lineplot(x=df_[i], y='Vehicles', data=df, hue='Junction', palette = palette)\n",
        "    plt.legend(bbox_to_anchor = (1.05, 1), loc=2, borderaxespad=0.)"
      ],
      "metadata": {
        "id": "XbLe6kW2zUGK"
      },
      "execution_count": null,
      "outputs": []
    },
    {
      "cell_type": "code",
      "source": [
        "## plt\n",
        "\n",
        "plt.figure(figsize=(12, 5), dpi=100)\n",
        "count = sns.countplot(data=df_, x = df_['Year'], hue = 'Junction', palette = palette)\n",
        "count.set_title('Count Of traffic On junction by years')\n",
        "count.set_ylabel(\"Number of Vehicles\")\n",
        "count.set_xlabel('Year')"
      ],
      "metadata": {
        "id": "PIq5bSbMzlQh"
      },
      "execution_count": null,
      "outputs": []
    },
    {
      "cell_type": "code",
      "source": [
        "## Correleation metrx\n",
        "\n",
        "corrmat = df_.corr()\n",
        "plt.subplots(figsize=(10,10))\n",
        "sns.heatmap(corrmat,cmap= \"Pastel2\",annot=True,square=True)"
      ],
      "metadata": {
        "id": "ao9BXJHwzteh"
      },
      "execution_count": null,
      "outputs": []
    },
    {
      "cell_type": "code",
      "source": [
        "## pair plot\n",
        "\n",
        "sns.pairplot(data=df_, hue= \"Junction\",palette=palette)"
      ],
      "metadata": {
        "id": "Z4xyyrYOzxrq"
      },
      "execution_count": null,
      "outputs": []
    },
    {
      "cell_type": "code",
      "source": [
        "## create pivot table\n",
        "\n",
        "df_junction  = df.pivot(columns='Junction', index=\"DateTime\")\n",
        "df_junction.describe()"
      ],
      "metadata": {
        "id": "5lvt3r651Ljx"
      },
      "execution_count": null,
      "outputs": []
    },
    {
      "cell_type": "code",
      "source": [
        "#Creating new sets\n",
        "\n",
        "df_1 = df_junction[[('Vehicles', 1)]]\n",
        "df_2 = df_junction[[('Vehicles', 2)]]\n",
        "df_3 = df_junction[[('Vehicles', 3)]]\n",
        "df_4 = df_junction[[('Vehicles', 4)]]\n",
        "df_4 = df_4.dropna()\n",
        "\n",
        "list_dfs = [df_1, df_2, df_3, df_4]\n",
        "for i in list_dfs:\n",
        "    i.columns= i.columns.droplevel(level=1)\n",
        "\n",
        "    #Function to plot comparitive plots of dataframes\n",
        "def Sub_Plots4(df_1, df_2,df_3,df_4,title):\n",
        "    fig, axes = plt.subplots(4, 1, figsize=(15, 8),sharey=True)\n",
        "    fig.suptitle(title)\n",
        "    #J1\n",
        "    pl_1=sns.lineplot(ax=axes[0],data=df_1,color=palette[0])\n",
        "    #pl_1=plt.ylabel()\n",
        "    axes[0].set(ylabel =\"Junction 1\")\n",
        "    #J2\n",
        "    pl_2=sns.lineplot(ax=axes[1],data=df_2,color=palette[1])\n",
        "    axes[1].set(ylabel =\"Junction 2\")\n",
        "    #J3\n",
        "    pl_3=sns.lineplot(ax=axes[2],data=df_3,color=palette[2])\n",
        "    axes[2].set(ylabel =\"Junction 3\")\n",
        "    #J4\n",
        "    pl_4=sns.lineplot(ax=axes[3],data=df_4,color=palette[3])\n",
        "    axes[3].set(ylabel =\"Junction 4\")\n",
        "\n",
        "\n",
        "#Plotting the dataframe to check for stationarity\n",
        "Sub_Plots4(df_1.Vehicles, df_2.Vehicles,df_3.Vehicles,df_4.Vehicles,\"Dataframes Before Transformation\")"
      ],
      "metadata": {
        "id": "tCFUAfwz1PEB"
      },
      "execution_count": null,
      "outputs": []
    },
    {
      "cell_type": "code",
      "source": [
        "# Normalization Function\n",
        "\n",
        "def Normalize(df, col):\n",
        "    average = df[col].mean()\n",
        "    stdev = df[col].std()\n",
        "    df_normalized = (df[col] - average)/stdev\n",
        "    df_normalized = df_normalized.to_frame()\n",
        "    return df_normalized, average, stdev"
      ],
      "metadata": {
        "id": "ExZwox1z1e-Z"
      },
      "execution_count": 18,
      "outputs": []
    },
    {
      "cell_type": "code",
      "source": [
        "## Differencing Function\n",
        "\n",
        "def Difference(df, col, interval):\n",
        "    diff = []\n",
        "    for i in range(interval, len(df)):\n",
        "        value = df[col][i] = df[col][i - interval]\n",
        "        diff.append(value)\n",
        "\n",
        "    return diff"
      ],
      "metadata": {
        "id": "kFuo6N0r1rIr"
      },
      "execution_count": 19,
      "outputs": []
    },
    {
      "cell_type": "code",
      "source": [
        "#Normalizing and Differencing to make the series stationary\n",
        "df_N1, av_J1, std_J1 = Normalize(df_1, \"Vehicles\")\n",
        "Diff_1 = Difference(df_N1, col=\"Vehicles\", interval=(24*7)) #taking a week's diffrence\n",
        "df_N1 = df_N1[24*7:]\n",
        "df_N1.columns = [\"Norm\"]\n",
        "df_N1[\"Diff\"]= Diff_1\n",
        "\n",
        "df_N2, av_J2, std_J2 = Normalize(df_2, \"Vehicles\")\n",
        "Diff_2 = Difference(df_N2, col=\"Vehicles\", interval=(24)) #taking a day's diffrence\n",
        "df_N2 = df_N2[24:]\n",
        "df_N2.columns = [\"Norm\"]\n",
        "df_N2[\"Diff\"]= Diff_2\n",
        "\n",
        "df_N3, av_J3, std_J3 = Normalize(df_3, \"Vehicles\")\n",
        "Diff_3 = Difference(df_N3, col=\"Vehicles\", interval=1) #taking an hour's diffrence\n",
        "df_N3 = df_N3[1:]\n",
        "df_N3.columns = [\"Norm\"]\n",
        "df_N3[\"Diff\"]= Diff_3\n",
        "\n",
        "df_N4, av_J4, std_J4 = Normalize(df_4, \"Vehicles\")\n",
        "Diff_4 = Difference(df_N4, col=\"Vehicles\", interval=1) #taking an hour's diffrence\n",
        "df_N4 = df_N4[1:]\n",
        "df_N4.columns = [\"Norm\"]\n",
        "df_N4[\"Diff\"]= Diff_4"
      ],
      "metadata": {
        "id": "0-pdoEyU1yPR"
      },
      "execution_count": 20,
      "outputs": []
    },
    {
      "cell_type": "code",
      "source": [
        "Sub_Plots4(df_N1.Diff, df_N2.Diff,df_N3.Diff,df_N4.Diff,\"Dataframes After Transformation\")"
      ],
      "metadata": {
        "id": "r8O75iNR16Hx"
      },
      "execution_count": null,
      "outputs": []
    },
    {
      "cell_type": "code",
      "source": [
        "# Assuming you have preprocessed data (X, y)\n",
        "# X is the feature matrix, and y is the corresponding target variable\n",
        "\n",
        "from sklearn.model_selection import train_test_split\n",
        "features = ['DateTime', 'Junction', 'ID']\n",
        "target_variable = 'Vehicles'\n",
        "\n",
        "# Create feature matrix (X) and target variable (y)\n",
        "X = data[features]\n",
        "y = data[target_variable]\n",
        "# Split the data into training and testing sets\n",
        "X_train, X_test, y_train, y_test = train_test_split(X, y, test_size=0.3, random_state=42)\n",
        "\n",
        "# Explore the split data\n",
        "print(\"Training Set (70%):\")\n",
        "print(\"X_train shape:\", X_train.shape)\n",
        "print(\"y_train shape:\", y_train.shape)\n",
        "\n",
        "print(\"\\nTesting Set (30%):\")\n",
        "print(\"X_test shape:\", X_test.shape)\n",
        "print(\"y_test shape:\", y_test.shape)\n"
      ],
      "metadata": {
        "colab": {
          "base_uri": "https://localhost:8080/"
        },
        "id": "iDl3QWsQ2fzq",
        "outputId": "f1458814-d25a-4e7d-bb4c-5cf43e9dab19"
      },
      "execution_count": 24,
      "outputs": [
        {
          "output_type": "stream",
          "name": "stdout",
          "text": [
            "Training Set (70%):\n",
            "X_train shape: (33684, 3)\n",
            "y_train shape: (33684,)\n",
            "\n",
            "Testing Set (30%):\n",
            "X_test shape: (14436, 3)\n",
            "y_test shape: (14436,)\n"
          ]
        }
      ]
    }
  ]
}